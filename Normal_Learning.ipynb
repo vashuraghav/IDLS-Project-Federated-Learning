{
 "cells": [
  {
   "cell_type": "markdown",
   "metadata": {},
   "source": [
    "## Normal Learning"
   ]
  },
  {
   "cell_type": "code",
   "execution_count": 13,
   "metadata": {},
   "outputs": [],
   "source": [
    "import torch\n",
    "from torchvision import datasets, transforms\n",
    "from torch.utils.data import DataLoader\n",
    "import torch.nn as nn\n",
    "import torch.optim as optim\n",
    "import time\n",
    "from torchvision.models import resnet50, ResNet50_Weights"
   ]
  },
  {
   "cell_type": "code",
   "execution_count": 9,
   "metadata": {},
   "outputs": [],
   "source": [
    "def train_model(global_model_name, train_dataset, output_model_name):\n",
    "    # Load the model architecture\n",
    "    model = resnet50(weights=None)\n",
    "    model.eval()\n",
    "\n",
    "    # Replace the final fully connected layer for transfer learning with the same num_classes\n",
    "    num_ftrs = model.fc.in_features\n",
    "    num_classes = 6\n",
    "    model.fc = nn.Linear(num_ftrs, num_classes)\n",
    "    \n",
    "    # Load the trained weights from the saved .pth file\n",
    "    model.load_state_dict(torch.load(global_model_name))\n",
    "    model.eval()\n",
    "    \n",
    "    # Define the loss function and optimizer\n",
    "    criterion = nn.CrossEntropyLoss()\n",
    "    optimizer = optim.SGD(model.fc.parameters(), lr=0.001, momentum=0.9)\n",
    "\n",
    "    # Move the model to GPU if available\n",
    "    device = torch.device(\"cuda:0\" if torch.cuda.is_available() else \"cpu\")\n",
    "    model = model.to(device)\n",
    "    \n",
    "    train_dataloader = torch.utils.data.DataLoader(train_dataset, batch_size=32, shuffle=True)\n",
    "    # Train the model\n",
    "    start_time = time.time()  # Record the end time of the epoch\n",
    "    num_epochs = 20  # You can change this\n",
    "    for epoch in range(num_epochs):\n",
    "        model.train()\n",
    "        running_loss = 0.0\n",
    "\n",
    "        for inputs, labels in train_dataloader:\n",
    "            inputs = inputs.to(device)\n",
    "            labels = labels.to(device)\n",
    "\n",
    "            optimizer.zero_grad()\n",
    "            outputs = model(inputs)\n",
    "\n",
    "            loss = criterion(outputs, labels)\n",
    "\n",
    "            loss.backward()\n",
    "            optimizer.step()\n",
    "\n",
    "            running_loss += loss.item() * inputs.size(0)\n",
    "\n",
    "        epoch_loss = running_loss / len(train_dataset)\n",
    "        print(f'Epoch {epoch+1}/{num_epochs} | Loss: {epoch_loss:.4f}')\n",
    "        if epoch_loss <= 0.01:\n",
    "            print(\" Early Stopping \")\n",
    "            break\n",
    "    end_time = time.time()  # Record the end time of the epoch\n",
    "    print(\" Training Time \", end_time - start_time)\n",
    "    \n",
    "    # Save the trained model\n",
    "    torch.save(model.state_dict(), output_model_name)\n",
    "    return model"
   ]
  },
  {
   "cell_type": "code",
   "execution_count": 10,
   "metadata": {},
   "outputs": [],
   "source": [
    "def test_model(data_dir, model_name):\n",
    "    import torch\n",
    "    from torchvision import datasets, transforms\n",
    "    from torch.utils.data import DataLoader\n",
    "    import torch.nn as nn\n",
    "\n",
    "    # Define paths to your test dataset folder\n",
    "    test_data_dir = data_dir  # Update with your test dataset path\n",
    "\n",
    "    # Define transformations for testing (similar to training)\n",
    "    test_transforms = transforms.Compose([\n",
    "        transforms.Resize(64),\n",
    "        transforms.ToTensor()\n",
    "    ])\n",
    "\n",
    "    # Load the test dataset using ImageFolder with the defined transformations\n",
    "    test_dataset = datasets.ImageFolder(root=test_data_dir, transform=test_transforms)\n",
    "\n",
    "    # Define the test dataloader\n",
    "    test_dataloader = DataLoader(test_dataset, batch_size=32, shuffle=False, num_workers=4)\n",
    "\n",
    "    # Load the model architecture\n",
    "    model = resnet50(weights=None)\n",
    "    model.eval()\n",
    "\n",
    "    # Replace the final fully connected layer for transfer learning with the same num_classes\n",
    "    num_ftrs = model.fc.in_features\n",
    "    num_classes = 6\n",
    "    model.fc = nn.Linear(num_ftrs, num_classes)\n",
    "\n",
    "    # Load the trained weights from the saved .pth file\n",
    "    model.load_state_dict(torch.load(model_name))\n",
    "    model.eval()\n",
    "\n",
    "    # Move the model to GPU if available\n",
    "    device = torch.device(\"cuda:0\" if torch.cuda.is_available() else \"cpu\")\n",
    "    model = model.to(device)\n",
    "\n",
    "    # Evaluate the model on the test dataset for both top-1 and top-3 accuracy\n",
    "    correct_top1 = 0\n",
    "    correct_top3 = 0\n",
    "\n",
    "    total = 0\n",
    "    with torch.no_grad():\n",
    "        for images, labels in test_dataloader:\n",
    "            images = images.to(device)\n",
    "            labels = labels.to(device)\n",
    "\n",
    "            outputs = model(images)\n",
    "            _, preds = torch.topk(outputs, 3, dim=1)  # Get top-3 predictions\n",
    "            total += labels.size(0)\n",
    "            for i in range(labels.size(0)):\n",
    "                if labels[i] == preds[i, 0]:  # Check top-1 accuracy\n",
    "                    correct_top1 += 1\n",
    "                if labels[i] in preds[i]:  # Check top-3 accuracy\n",
    "                    correct_top3 += 1\n",
    "\n",
    "    top1_accuracy = 100 * correct_top1 / total\n",
    "    top3_accuracy = 100 * correct_top3 / total\n",
    "    print(f'Top-1 Accuracy on the {data_dir} dataset: {top1_accuracy:.2f}%')\n",
    "    print(f'Top-3 Accuracy on the {data_dir} dataset: {top3_accuracy:.2f}%')"
   ]
  },
  {
   "cell_type": "code",
   "execution_count": 11,
   "metadata": {},
   "outputs": [
    {
     "name": "stdout",
     "output_type": "stream",
     "text": [
      "Epoch 1/20 | Loss: 0.3271\n",
      "Epoch 2/20 | Loss: 0.1286\n",
      "Epoch 3/20 | Loss: 0.0985\n",
      "Epoch 4/20 | Loss: 0.0834\n",
      "Epoch 5/20 | Loss: 0.0734\n",
      "Epoch 6/20 | Loss: 0.0659\n",
      "Epoch 7/20 | Loss: 0.0604\n",
      "Epoch 8/20 | Loss: 0.0600\n",
      "Epoch 9/20 | Loss: 0.0542\n",
      "Epoch 10/20 | Loss: 0.0510\n",
      "Epoch 11/20 | Loss: 0.0488\n",
      "Epoch 12/20 | Loss: 0.0486\n",
      "Epoch 13/20 | Loss: 0.0460\n",
      "Epoch 14/20 | Loss: 0.0435\n",
      "Epoch 15/20 | Loss: 0.0423\n",
      "Epoch 16/20 | Loss: 0.0404\n",
      "Epoch 17/20 | Loss: 0.0404\n",
      "Epoch 18/20 | Loss: 0.0396\n",
      "Epoch 19/20 | Loss: 0.0390\n",
      "Epoch 20/20 | Loss: 0.0366\n",
      " Training Time  857.2332816123962\n",
      "Top-1 Accuracy on the ../Dataset/validation_data dataset: 99.68%\n",
      "Top-3 Accuracy on the ../Dataset/validation_data dataset: 100.00%\n"
     ]
    }
   ],
   "source": [
    "train_transforms = transforms.Compose([\n",
    "        transforms.Resize(64),\n",
    "        transforms.ToTensor()\n",
    "    ])\n",
    "\n",
    "dataset = datasets.ImageFolder(root=\"../Dataset/train-full\", transform=train_transforms)\n",
    "    \n",
    "train_model(\"trained_global_model.pth\", dataset, \"train_normal_model.pth\")\n",
    "test_model('../Dataset/validation_data', \"train_normal_model.pth\")"
   ]
  },
  {
   "cell_type": "code",
   "execution_count": 12,
   "metadata": {},
   "outputs": [
    {
     "name": "stdout",
     "output_type": "stream",
     "text": [
      "Top-1 Accuracy on the ../Dataset/test_data dataset: 99.63%\n",
      "Top-3 Accuracy on the ../Dataset/test_data dataset: 100.00%\n"
     ]
    }
   ],
   "source": [
    "test_model('../Dataset/test_data', \"train_normal_model.pth\")"
   ]
  },
  {
   "cell_type": "code",
   "execution_count": null,
   "metadata": {},
   "outputs": [],
   "source": []
  }
 ],
 "metadata": {
  "kernelspec": {
   "display_name": "my_env",
   "language": "python",
   "name": "my_env"
  },
  "language_info": {
   "codemirror_mode": {
    "name": "ipython",
    "version": 3
   },
   "file_extension": ".py",
   "mimetype": "text/x-python",
   "name": "python",
   "nbconvert_exporter": "python",
   "pygments_lexer": "ipython3",
   "version": "3.11.5"
  }
 },
 "nbformat": 4,
 "nbformat_minor": 4
}
